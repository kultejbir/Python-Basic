{
  "nbformat": 4,
  "nbformat_minor": 0,
  "metadata": {
    "colab": {
      "provenance": []
    },
    "kernelspec": {
      "name": "python3",
      "display_name": "Python 3"
    },
    "language_info": {
      "name": "python"
    }
  },
  "cells": [
    {
      "cell_type": "code",
      "execution_count": 1,
      "metadata": {
        "colab": {
          "base_uri": "https://localhost:8080/",
          "height": 192
        },
        "collapsed": true,
        "id": "ySNkPcR7d3AG",
        "outputId": "3688f75a-5e8c-4f13-b8b5-375d9828fd8d"
      },
      "outputs": [
        {
          "output_type": "execute_result",
          "data": {
            "text/plain": [
              "'\\nSoln-1.\\nPython is a high-level, interpreted, and general-purpose programming language \\nknown for its simplicity and readability.\\n\\nReasons for popularity:->\\nEasy to learn and write\\nHuge community support\\nExtensive libraries and frameworks\\nCross-platform compatibility\\nWidely used in AI, ML, Web Development, Automation, etc.\\n\\nSoln-2.\\nAn interpreter is a program that executes Python code line by line. Python uses \\nthe CPython interpreter by default, which converts Python code into machine-readable instructions.\\n\\nSoln-3.\\nPre-defined keywords are reserved words in Python that have special meanings and purposes.\\nExample: if, for, while, class, True, False, import.\\n\\nSoln-4.\\nNo, keywords cannot be used as variable names because they have predefined meanings in Python.\\n\\nSoln-5.\\nMutability refers to whether an object’s content can be changed after creation.\\n\\nMutable objects → can be modified (e.g., lists, dictionaries).\\nImmutable objects → cannot be modified (e.g., tuples, strings).\\n\\nSoln-6.\\nLists are designed for dynamic data storage, so they allow adding, removing, and changing elements.\\nTuples are optimized for fixed data collections, making them faster and memory-efficient, hence immutable.\\n\\nSoln-7.\\n== → Compares values of two objects.\\nis → Compares memory addresses (checks if both variables point to the same object).\\n\\nSoln-8.\\nLogical operators are used to combine conditional statements:\\n\\nand → Returns True if both conditions are true.\\nor → Returns True if any one condition is true.\\nnot → Reverses the result.\\n\\nSoln-9.\\nType casting is converting one data type into another.\\nExample:->\\nx = int(\"10\")       String → Integer\\ny = float(5)        Integer → Float\\nz = str(100)        Integer → String\\n\\nSoln-10.\\nImplicit casting (Type Conversion): Done automatically by Python.\\nex:\\nx = 5\\ny = 2.5\\nz = x + y  # int → float automatically\\n\\nExplicit casting: Done manually using functions like int(), float(), str().\\n\\nSoln-11.\\nConditional statements allow decision-making in code based on conditions.\\nExample:->\\nif age >= 18:\\n    print(\"Eligible\")\\nelse:\\n    print(\"Not Eligible\")\\n\\nSoln-12.\\nelif (else if) checks multiple conditions sequentially:\\nExample:->\\nx = 10\\nif x > 15:\\n    print(\"Greater than 15\")\\nelif x > 5:\\n    print(\"Greater than 5\")\\nelse:\\n    print(\"5 or less\")\\n\\nSoln-13.\\n'"
            ],
            "application/vnd.google.colaboratory.intrinsic+json": {
              "type": "string"
            }
          },
          "metadata": {},
          "execution_count": 1
        }
      ],
      "source": [
        "'''\n",
        "Soln-1.\n",
        "Python is a high-level, interpreted, and general-purpose programming language\n",
        "known for its simplicity and readability.\n",
        "\n",
        "Reasons for popularity:->\n",
        "Easy to learn and write\n",
        "Huge community support\n",
        "Extensive libraries and frameworks\n",
        "Cross-platform compatibility\n",
        "Widely used in AI, ML, Web Development, Automation, etc.\n",
        "\n",
        "Soln-2.\n",
        "An interpreter is a program that executes Python code line by line. Python uses\n",
        "the CPython interpreter by default, which converts Python code into machine-readable instructions.\n",
        "\n",
        "Soln-3.\n",
        "Pre-defined keywords are reserved words in Python that have special meanings and purposes.\n",
        "Example: if, for, while, class, True, False, import.\n",
        "\n",
        "Soln-4.\n",
        "No, keywords cannot be used as variable names because they have predefined meanings in Python.\n",
        "\n",
        "Soln-5.\n",
        "Mutability refers to whether an object’s content can be changed after creation.\n",
        "\n",
        "Mutable objects → can be modified (e.g., lists, dictionaries).\n",
        "Immutable objects → cannot be modified (e.g., tuples, strings).\n",
        "\n",
        "Soln-6.\n",
        "Lists are designed for dynamic data storage, so they allow adding, removing, and changing elements.\n",
        "Tuples are optimized for fixed data collections, making them faster and memory-efficient, hence immutable.\n",
        "\n",
        "Soln-7.\n",
        "== → Compares values of two objects.\n",
        "is → Compares memory addresses (checks if both variables point to the same object).\n",
        "\n",
        "Soln-8.\n",
        "Logical operators are used to combine conditional statements:\n",
        "\n",
        "and → Returns True if both conditions are true.\n",
        "or → Returns True if any one condition is true.\n",
        "not → Reverses the result.\n",
        "\n",
        "Soln-9.\n",
        "Type casting is converting one data type into another.\n",
        "Example:->\n",
        "x = int(\"10\")       String → Integer\n",
        "y = float(5)        Integer → Float\n",
        "z = str(100)        Integer → String\n",
        "\n",
        "Soln-10.\n",
        "Implicit casting (Type Conversion): Done automatically by Python.\n",
        "ex:\n",
        "x = 5\n",
        "y = 2.5\n",
        "z = x + y  # int → float automatically\n",
        "\n",
        "Explicit casting: Done manually using functions like int(), float(), str().\n",
        "\n",
        "Soln-11.\n",
        "Conditional statements allow decision-making in code based on conditions.\n",
        "Example:->\n",
        "if age >= 18:\n",
        "    print(\"Eligible\")\n",
        "else:\n",
        "    print(\"Not Eligible\")\n",
        "\n",
        "Soln-12.\n",
        "elif (else if) checks multiple conditions sequentially:\n",
        "Example:->\n",
        "x = 10\n",
        "if x > 15:\n",
        "    print(\"Greater than 15\")\n",
        "elif x > 5:\n",
        "    print(\"Greater than 5\")\n",
        "else:\n",
        "    print(\"5 or less\")\n",
        "\n",
        "Soln-13.\n",
        "Feature\t               for loop\t                                      while loop\n",
        "Usage\t       Used when number of iterations is known\t   Used when number of iterations is unknown\n",
        "Syntax\t        Iterates over a sequence\t              Continues until condition becomes false\n",
        "Example\t          for i in range(5):\t                            while i < 5:\n",
        "\n",
        "Soln-14.\n",
        "Use a while loop when the number of iterations is unknown and depends on a condition.\n",
        "Example:->\n",
        "password = \"\"\n",
        "while password != \"1234\":\n",
        "    password = input(\"Enter password: \")\n",
        "print(\"Access Granted\")\n",
        "\n",
        "Here, we don’t know how many times the user will enter the wrong password, so a while loop is better.\n",
        "'''"
      ]
    },
    {
      "cell_type": "code",
      "source": [
        "#practical Questions\n",
        "#soln-1\n",
        "print(\"Hello, World!!\")"
      ],
      "metadata": {
        "id": "hG2AAmvZtru_"
      },
      "execution_count": null,
      "outputs": []
    },
    {
      "cell_type": "code",
      "source": [
        "#(2) Write a Python program that displays your name and age.\n",
        "name=input(\"Enter Your Name: \")\n",
        "age=input(\"Enter your age:\")\n",
        "print(\"Name: \",name)\n",
        "print(\"Age is: \",age)"
      ],
      "metadata": {
        "id": "ZJ4RvhTtu379"
      },
      "execution_count": null,
      "outputs": []
    },
    {
      "cell_type": "code",
      "source": [
        "# 3. Write code to print all the pre-defined keywords in Python using the keyword library\n",
        "import keyword\n",
        "\n",
        "keywords_list = keyword.kwlist\n",
        "\n",
        "print(\"Total number of keywords in Python:\", len(keywords_list))\n",
        "print(\"\\nList of Python keywords:\\n\")\n",
        "\n",
        "for kw in keywords_list:\n",
        "    print(kw)"
      ],
      "metadata": {
        "id": "M0SrISwMwyLG"
      },
      "execution_count": null,
      "outputs": []
    },
    {
      "cell_type": "code",
      "source": [
        "# 4. Write a program that checks if a given word is a Python keyword.\n",
        "word=input(\"Enter the word to check: \")\n",
        "keywords_list = keyword.kwlist\n",
        "if word in keywords_list:\n",
        "  print(\"Word is a keyword.\")\n",
        "else:\n",
        "  print(\"Word is not a keyword.\")\n"
      ],
      "metadata": {
        "id": "sAFEu3-axxxq"
      },
      "execution_count": null,
      "outputs": []
    },
    {
      "cell_type": "code",
      "source": [
        "# 5. Create a list and tuple in Python, and demonstrate how attempting to change an element works differently for each.\n",
        "#list and tupple are not covered in this module"
      ],
      "metadata": {
        "id": "vDrrYlVhz6gy"
      },
      "execution_count": null,
      "outputs": []
    },
    {
      "cell_type": "code",
      "source": [
        "# 6. Write a function to demonstrate the behavior of mutable and immutable arguments.\n",
        "def demonstrate_behavior(num, my_list):\n",
        "    print(\"\\nInside the function:\")\n",
        "\n",
        "    num = num + 5\n",
        "    print(\"Value of num inside function:\", num)\n",
        "\n",
        "    my_list.append(100)\n",
        "    print(\"List inside function:\", my_list)\n",
        "\n",
        "x = 10\n",
        "numbers = [1, 2, 3]\n",
        "\n",
        "print(\"Before function call:\")\n",
        "print(\"x =\", x)\n",
        "print(\"numbers =\", numbers)\n",
        "\n",
        "demonstrate_behavior(x, numbers)\n",
        "\n",
        "print(\"\\nAfter function call:\")\n",
        "print(\"x =\", x)\n",
        "print(\"numbers =\", numbers)"
      ],
      "metadata": {
        "id": "hFs-KEAg06HI"
      },
      "execution_count": null,
      "outputs": []
    },
    {
      "cell_type": "code",
      "source": [
        "# 7. Write a program that performs basic arithmetic operations on two user-input numbers.\n",
        "num1=float(input(\"Enter the first number: \"))\n",
        "num2=floa3t(input(\"Enter the second number: \"))\n",
        "\n",
        "print(\"\\n--- Arithmetic Operations ---\")\n",
        "print(\"Addition:\", num1 + num2)\n",
        "print(\"Subtraction:\", num1 - num2)\n",
        "print(\"Multiplication:\", num1 * num2)\n",
        "\n",
        "if num2 != 0:\n",
        "    print(\"Division:\", num1 / num2)\n",
        "    print(\"Floor Division:\", num1 // num2)\n",
        "    print(\"Modulus:\", num1 % num2)\n",
        "else:\n",
        "    print(\"Division, Floor Division, and Modulus are not possible (division by zero).\")\n",
        "\n",
        "print(\"Exponentiation:\", num1 ** num2)"
      ],
      "metadata": {
        "id": "ERSpH0OE4EnL"
      },
      "execution_count": null,
      "outputs": []
    },
    {
      "cell_type": "code",
      "source": [
        "# 8. Write a program to demonstrate the use of logical operators.\n",
        "\n",
        "a = int(input(\"Enter first number: \"))\n",
        "b = int(input(\"Enter second number: \"))\n",
        "\n",
        "print(\"\\n--- Logical Operators Demonstration ---\")\n",
        "\n",
        "print(\"Using 'and' operator:\")\n",
        "if a > 0 and b > 0:\n",
        "    print(\"Both numbers are positive.\")\n",
        "else:\n",
        "    print(\"At least one number is not positive.\")\n",
        "\n",
        "print(\"\\nUsing 'or' operator:\")\n",
        "if a > 0 or b > 0:\n",
        "    print(\"At least one number is positive.\")\n",
        "else:\n",
        "    print(\"Both numbers are non-positive.\")\n",
        "\n",
        "print(\"\\nUsing 'not' operator:\")\n",
        "if not (a < 0 or b < 0):\n",
        "    print(\"Neither number is negative.\")\n",
        "else:\n",
        "    print(\"At least one number is negative.\")"
      ],
      "metadata": {
        "id": "-swgR0_-7T09"
      },
      "execution_count": null,
      "outputs": []
    },
    {
      "cell_type": "code",
      "source": [
        "# 9. Write a Python program to convert user input from string to integer, float, and boolean types.\n",
        "user_input = input(\"Enter a number: \")\n",
        "\n",
        "print(\"\\n--- Type Conversion ---\")\n",
        "\n",
        "try:\n",
        "    int_value = int(user_input)\n",
        "    print(\"Integer value:\", int_value, \"| Type:\", type(int_value))\n",
        "except ValueError:\n",
        "    print(\"Cannot convert to integer!\")\n",
        "\n",
        "try:\n",
        "    float_value = float(user_input)\n",
        "    print(\"Float value:\", float_value, \"| Type:\", type(float_value))\n",
        "except ValueError:\n",
        "    print(\"Cannot convert to float!\")\n",
        "\n",
        "bool_value = bool(user_input)\n",
        "print(\"Boolean value:\", bool_value, \"| Type:\", type(bool_value))"
      ],
      "metadata": {
        "id": "kOfr3MPY8gpi"
      },
      "execution_count": null,
      "outputs": []
    },
    {
      "cell_type": "code",
      "source": [
        "# 10. Write code to demonstrate type casting with list elements.\n",
        "str_list = [\"10\", \"20\", \"30\", \"40\", \"50\"]\n",
        "\n",
        "print(\"Original List:\", str_list)\n",
        "print(\"Data type of first element:\", type(str_list[0]))\n",
        "\n",
        "int_list = [int(x) for x in str_list]\n",
        "print(\"\\nList after converting to integers:\", int_list)\n",
        "print(\"Data type of first element:\", type(int_list[0]))\n",
        "\n",
        "float_list = [float(x) for x in int_list]\n",
        "print(\"\\nList after converting to floats:\", float_list)\n",
        "print(\"Data type of first element:\", type(float_list[0]))"
      ],
      "metadata": {
        "id": "rQKcibNi9W5Q"
      },
      "execution_count": null,
      "outputs": []
    },
    {
      "cell_type": "code",
      "source": [
        "# 11. Write a program that checks if a number is positive, negative, or zero.\n",
        "num = float(input(\"Enter a number: \"))\n",
        "\n",
        "if num > 0:\n",
        "    print(\"The number is Positive.\")\n",
        "elif num < 0:\n",
        "    print(\"The number is Negative.\")\n",
        "else:\n",
        "    print(\"The number is Zero.\")"
      ],
      "metadata": {
        "id": "xrexEVkt9tnu"
      },
      "execution_count": null,
      "outputs": []
    },
    {
      "cell_type": "code",
      "source": [
        "# 12. Write a for loop to print numbers from 1 to 10.\n",
        "for i in range(1,11):\n",
        "  print(i)"
      ],
      "metadata": {
        "id": "f3naXwif9-ej"
      },
      "execution_count": null,
      "outputs": []
    },
    {
      "cell_type": "code",
      "source": [
        "# 13. Write a Python program to find the sum of all even numbers between 1 and 50.\n",
        "sum=0\n",
        "for i in range(1,51):\n",
        "  if(i%2==0):\n",
        "    sum=sum+i\n",
        "print(\"Sum is: \",sum)"
      ],
      "metadata": {
        "id": "0bkTHGvu-N9u"
      },
      "execution_count": null,
      "outputs": []
    },
    {
      "cell_type": "code",
      "source": [
        "# 14. Write a program to reverse a string using a while loop.\n",
        "name = \"Pwskills\"\n",
        "i = len(name) - 1\n",
        "reverse_str = \"\"\n",
        "\n",
        "while i >= 0:\n",
        "    reverse_str += name[i]\n",
        "    i -= 1\n",
        "\n",
        "print(\"Original String:\", name)\n",
        "print(\"Reversed String:\", reverse_str)"
      ],
      "metadata": {
        "id": "2-3ZQFqd-90Z"
      },
      "execution_count": null,
      "outputs": []
    },
    {
      "cell_type": "code",
      "source": [
        "# 15. Write a Python program to calculate the factorial of a number provided by the user using a while loop.\n",
        "number=int(input(\"Enter the number: \"))\n",
        "i=1\n",
        "while i<11:\n",
        "  product=number*i\n",
        "  print(f\"{number}*{i}={product}\")\n",
        "  i+=1"
      ],
      "metadata": {
        "id": "GhE8UKyzCTXE"
      },
      "execution_count": null,
      "outputs": []
    }
  ]
}